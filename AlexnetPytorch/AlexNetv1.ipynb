{
 "cells": [
  {
   "cell_type": "code",
   "execution_count": 5,
   "id": "ec89ce8e-1626-466e-8297-38d0fbbb1edf",
   "metadata": {},
   "outputs": [],
   "source": [
    "import torch\n",
    "import torchvision.transforms as transforms\n",
    "from torchvision import models\n",
    "from PIL import Image\n",
    "import cv2\n",
    "import numpy as np\n",
    "import requests\n",
    "\n",
    "import matplotlib.pyplot as plt\n",
    "\n",
    "# Carga un modelo preentrenado de AlexNet\n",
    "model = models.alexnet(weights=models.AlexNet_Weights.DEFAULT)\n",
    "model.eval()  # Pone en modo evaluación\n",
    "\n",
    "# Etiquetas de ImageNet\n",
    "LABELS_PATH = r\"\"\n",
    "with open(LABELS_PATH, \"r\") as f:\n",
    "    labels = f.read().split(\"\\n\")\n",
    "\n",
    "# Define transformaciones de preprocesamiento\n",
    "transform = transforms.Compose([\n",
    "    transforms.Resize((224, 224)),  # AlexNet usa imágenes de 224x224\n",
    "    transforms.ToTensor(),\n",
    "    transforms.Normalize(mean=[0.485, 0.456, 0.406], std=[0.229, 0.224, 0.225])\n",
    "])\n",
    "\n",
    "def classify_image(image_path):\n",
    "    \"\"\"Carga una imagen, preprocesa, clasifica con AlexNet y muestra el resultado.\"\"\"\n",
    "    image = Image.open(image_path).convert(\"RGB\")\n",
    "    input_tensor = transform(image).unsqueeze(0)  # Add batch dimension\n",
    "\n",
    "    # Ejecuta inferencia\n",
    "    with torch.no_grad():\n",
    "        outputs = model(input_tensor)\n",
    "        _, predicted_class = outputs.max(1)\n",
    "\n",
    "    predicted_label = labels[predicted_class.item()].strip()\n",
    "\n",
    "    # Convierte imagen PIL a formato OpenCV\n",
    "    img_cv = cv2.cvtColor(np.array(image), cv2.COLOR_RGB2BGR)\n",
    "\n",
    "    # Muestra el resultado\n",
    "    cv2.putText(img_cv, f\"Predicted: {predicted_label}\", (10, 50),\n",
    "                cv2.FONT_HERSHEY_SIMPLEX, 1, (0, 255, 0), 2)\n",
    "    cv2.imshow(\"Resultado de la clasificación\", img_cv)\n",
    "    cv2.waitKey(0)\n",
    "    cv2.destroyAllWindows()\n",
    "\n",
    "# Prueba de clasificación\n",
    "image_path = r\"\"  # Ruta de la imagen\n",
    "classify_image(image_path)"
   ]
  },
  {
   "cell_type": "code",
   "execution_count": null,
   "id": "4f10faa1-4957-48a7-a521-2e0ba02a0de8",
   "metadata": {},
   "outputs": [],
   "source": []
  }
 ],
 "metadata": {
  "kernelspec": {
   "display_name": "Python 3 (ipykernel)",
   "language": "python",
   "name": "python3"
  },
  "language_info": {
   "codemirror_mode": {
    "name": "ipython",
    "version": 3
   },
   "file_extension": ".py",
   "mimetype": "text/x-python",
   "name": "python",
   "nbconvert_exporter": "python",
   "pygments_lexer": "ipython3",
   "version": "3.13.5"
  }
 },
 "nbformat": 4,
 "nbformat_minor": 5
}
